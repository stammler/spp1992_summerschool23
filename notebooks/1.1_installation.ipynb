{
 "cells": [
  {
   "cell_type": "markdown",
   "id": "f269945a-1263-4196-9a90-6d94dfae57f6",
   "metadata": {},
   "source": [
    "# Installation"
   ]
  },
  {
   "cell_type": "markdown",
   "id": "c7c62d9e-662b-4cbe-be56-89bbffdab130",
   "metadata": {},
   "source": [
    "[DustPy](https://stammler.github.io/dustpy/) is a Python software package that calls Fortran subroutines in the backend for performance reasons. Therefore, a Fortran compiler needs to be installed prior to the installation of DustPy. There are of course several ways of using DustPy and everyone is welcome to use their prefered method.\n",
    "\n",
    "We recommend to use DustPy within an [Anaconda](https://www.anaconda.com/) environment. The examples in this workshop are provided as Jupyter notebooks. But of course participants can follow everything in their shell as well if this is the prefered method.\n",
    "\n",
    "[DustPyLib](https://dustpylib.readthedocs.io/en/latest/) is a library of extensions that can be used with DustPy. One of these extension is an interface to create [RADMC-3D](https://www.ita.uni-heidelberg.de/~dullemond/software/radmc-3d/) setups. To follow the tutorial of creating images of DustPy simulations, participants would need to additionally install RADMC-3D.\n",
    "\n",
    "This notebook explains step-by-step how to install all of these applications. Particiapnts are free to skip steps if they want the deviate from the recommended procedure.  \n",
    "Please make sure that the test programs execute without error in the end."
   ]
  },
  {
   "cell_type": "markdown",
   "id": "35fb2b3d-f57d-42c9-a0bf-1789bd6974b4",
   "metadata": {},
   "source": [
    "## Fortran compiler\n",
    "\n",
    "Any Fortran compiler would work. Here we show how to install `gfortran`.  \n",
    "There have been issues reported if Anaconda was installed prior to the Fortran compiler. If you have Anaconda installed before any Fortran compiler and you run into issues, consider removing Anaconda, install a Fortran compiler, and then re-install Anaconda."
   ]
  },
  {
   "cell_type": "markdown",
   "id": "d4155af0-9d44-4a92-b363-7270b52de41c",
   "metadata": {},
   "source": [
    "### Linux\n",
    "\n",
    "On Linux the `gfortran` compiler can be installed in the terminal with\n",
    "\n",
    "`sudo apt-get install gfortran`"
   ]
  },
  {
   "cell_type": "markdown",
   "id": "a0f0b884-3591-494f-bb75-29b54f7c39fd",
   "metadata": {},
   "source": [
    "### MacOS\n",
    "\n",
    "On MacOS `gfortran` can be installed in the terminal with\n",
    "\n",
    "`sudo xcode-select —install`  \n",
    "`brew install gfortran`"
   ]
  },
  {
   "cell_type": "markdown",
   "id": "29f40c8d-cae2-48a1-ad59-b8e93197cde4",
   "metadata": {},
   "source": [
    "## Anaconda/Miniconda\n",
    "\n",
    "[Anaconda](https://www.anaconda.com/) – or its minimal version [Miniconda](https://docs.conda.io/en/latest/miniconda.html) – is a Python distribution and package management system. The advantage of using Anaconda/Miniconda is that it is possible to create separate independent environments for each project, which can help to avoid version conflicts. It is not required to use Anaconda/Miniconda for DustPy, but it may help with avoiding conflicts with other Python versions that may be already installed on the system.\n",
    "\n",
    "Please follow the installation instructions for your operating system on their project homepage."
   ]
  },
  {
   "cell_type": "markdown",
   "id": "42957b98-72b7-4f1c-bb5b-4ba034e44f04",
   "metadata": {},
   "source": [
    "### Creating an environment\n",
    "\n",
    "Once Anaconda/Miniconda is installed a DustPy environment can be created with\n",
    "\n",
    "`conda create -n dustpy`\n",
    "\n",
    "Change to the newly create environment with\n",
    "\n",
    "`conda activate dustpy`\n",
    "\n",
    "Install Python into the environment with\n",
    "\n",
    "`conda install python`"
   ]
  },
  {
   "cell_type": "markdown",
   "id": "0df5a658-2d4e-4d83-bc12-2d4e4682963e",
   "metadata": {},
   "source": [
    "## Installing DustPy & DustPyLib\n",
    "\n",
    "NumPy needs to be installed prior to the installation of DustPy. Install Numpy with\n",
    "\n",
    "`pip install numpy`\n",
    "\n",
    "Then install DustPy and DustPyLib with\n",
    "\n",
    "`pip install dustpy dustpylib`"
   ]
  },
  {
   "cell_type": "markdown",
   "id": "2f9c8152-7869-4385-af51-b8b82779b665",
   "metadata": {},
   "source": [
    "## Jupyter\n",
    "\n",
    "The examples will be provided as Jupyter notebooks. All examples can also be executed by typing the commands in an interactive Python shell or by runnning them as script. But for convenience it is recommended to use Jupyter.\n",
    "\n",
    "To install Jupyter and the notebook extensions type\n",
    "\n",
    "`pip install jupyterlab jupyter_contrib_nbextensions`\n",
    "\n",
    "The Jupyter server can then be started with\n",
    "\n",
    "`jupyter lab`\n",
    "\n",
    "This will set up a local webserver. If it does not pop up automatically in your browser, you can access the Jupyter server by adressing the website manually. By default this should be\n",
    "\n",
    "`http://localhost:8888/`"
   ]
  },
  {
   "cell_type": "markdown",
   "id": "8818f591-53b4-4bb8-b247-e34c94165ba5",
   "metadata": {},
   "source": [
    "## RADMC-3D\n",
    "\n",
    "If you want to follow the examples involving radiative transfer model with [RADMC-3D](https://www.ita.uni-heidelberg.de/~dullemond/software/radmc-3d/), you have to install is manually. Please follow the [installation instructions](https://www.ita.uni-heidelberg.de/~dullemond/software/radmc-3d/manual_radmc3d/installation.html) provided in the [RADMC-3D documentation](https://www.ita.uni-heidelberg.de/~dullemond/software/radmc-3d/manual_radmc3d/index.html).\n",
    "\n",
    "In short this would be as follows:\n",
    "\n",
    "Navigate into the directory, into which you want to clone the RADMC-3D repository, then clone the repository with\n",
    "\n",
    "`git clone git@github.com:dullemond/radmc3d-2.0.git`\n",
    "\n",
    "Change the directory\n",
    "\n",
    "`cd radmc3d-2.0/src`\n",
    "\n",
    "and compile/install the code with\n",
    "\n",
    "`make install`\n",
    "\n",
    "If you are using Anaconda/Miniconda and the installation scripts ask if it should create a `../python` directory, you can answer with `n`, since the Anaconda Python directory will be at a different location anyway."
   ]
  },
  {
   "cell_type": "markdown",
   "id": "0036f50b-de0f-4ff7-ae7d-0ec97b45ed17",
   "metadata": {},
   "source": [
    "## Testing the installation\n",
    "\n",
    "Once everything is installed successfully, please test your setup by running all cells in the `1.2_test.ipynb` notebook."
   ]
  }
 ],
 "metadata": {
  "kernelspec": {
   "display_name": "Python 3 (ipykernel)",
   "language": "python",
   "name": "python3"
  },
  "language_info": {
   "codemirror_mode": {
    "name": "ipython",
    "version": 3
   },
   "file_extension": ".py",
   "mimetype": "text/x-python",
   "name": "python",
   "nbconvert_exporter": "python",
   "pygments_lexer": "ipython3",
   "version": "3.11.3"
  }
 },
 "nbformat": 4,
 "nbformat_minor": 5
}
