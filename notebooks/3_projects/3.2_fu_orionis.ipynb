{
 "cells": [
  {
   "cell_type": "markdown",
   "id": "bea75455-6763-4f3d-a8b3-09ea929a157d",
   "metadata": {},
   "source": [
    "# FU Orionis outbursts"
   ]
  },
  {
   "cell_type": "markdown",
   "id": "f2b544c6-0f82-4e13-92b1-e6b78826b145",
   "metadata": {},
   "source": [
    "Transitions in the fragmentation velocity can lead to dust accumulation. High fragmentation velocities lead to larger particles which drift more rapidly than smaller particle. Once the particle drift into a region with lower fragmentation velocity, dust starts to accumulate. This is called the \"traffic jam effect\". This effect can be seen in the [\"Ice Lines\" example](https://stammler.github.io/dustpy/example_ice_lines.html) in the DustPy documentation, where the dust-to-gas ratio is enhanced by a factor of $10$ inside the water ice line.\n",
    "\n",
    "Enhanced dust surface densities can make the disk optically thick. [Banzatti et al. (2015)](https://iopscience.iop.org/article/10.1088/2041-8205/815/1/L15) investigated this effect and demonstrated in models a transition in the spectral index at the water ice line from $2$ (optically thick) to greater values (e.g. their figure 4). [Cieza et al. (2016)](https://www.nature.com/articles/nature18612) found a similar transition in spectral index in the disk around [V883 Orionis](https://en.wikipedia.org/wiki/V883_Orionis) and claimed to have detected the water ice line. This star is currently undergoing an FU Orionis outburst. [FU orionis type stars](https://en.wikipedia.org/wiki/FU_Orionis_star) are pre-main-sequence stars that experience extreme changes in magnitude, associated with accretion events from the circumstellar disk onto the star. The rise time of the outbursts is relatively short on the of years. Their life time of the event is on the order of decades."
   ]
  },
  {
   "cell_type": "markdown",
   "id": "cb9126ef-6956-477b-9c18-044eba6d26a8",
   "metadata": {},
   "source": [
    "## The Project\n",
    "\n",
    "The goal of this project is to investigate if the typical FU Orionis outbursts are consistent with this idea. If the stellar luminosity suddenly increases and is moving the ice line, how long does it take until enough dust is accumulated at the new ice line location to show the observed transition in the spectral index? Is this consistent with a timescale of at most one century?\n",
    "\n",
    "Set up a DustPy simulation with one or more ice lines having transitions in the fragmentation velocity and let the simulation run until the particle size distribution has reached the growth limits. Then increase the stellar temperature by a factor of $\\sim2$ and see how long it takes for the dust to adapt to the new growth limits.\n",
    "\n",
    "You can also make RADMC-3D images of the model and check out the spectral index as described in the [DustPyLib documentation](https://dustpylib.readthedocs.io/en/latest/radmc3d.html#Spectral-index-maps)."
   ]
  }
 ],
 "metadata": {
  "kernelspec": {
   "display_name": "Python 3 (ipykernel)",
   "language": "python",
   "name": "python3"
  },
  "language_info": {
   "codemirror_mode": {
    "name": "ipython",
    "version": 3
   },
   "file_extension": ".py",
   "mimetype": "text/x-python",
   "name": "python",
   "nbconvert_exporter": "python",
   "pygments_lexer": "ipython3",
   "version": "3.11.3"
  }
 },
 "nbformat": 4,
 "nbformat_minor": 5
}
