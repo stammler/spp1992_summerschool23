{
 "cells": [
  {
   "cell_type": "markdown",
   "id": "40a1f3f9-7458-40a8-aed2-a5edefb36ea8",
   "metadata": {},
   "source": [
    "# Stellar Irradiation"
   ]
  },
  {
   "cell_type": "markdown",
   "id": "0e75550f-cd47-4f7a-a89b-3b3b4645bd09",
   "metadata": {},
   "source": [
    "The default temperature profile of DustPy is that of a passively irradiated disk\n",
    "\n",
    "$\\Large T\\left(r\\right) = \\sqrt[4]{\\frac{1}{2}\\frac{\\varphi L_*}{4\\pi r^2 \\sigma_\\mathrm{SB}}}$\n",
    "\n",
    "with a constant irradiation angle of $\\varphi = 0.05$. The irradiation angle, however, is typically not constant, but depends on the height profile of the disk and therefore on the temperature itself ([Chiang & Goldreich, 1997](https://ui.adsabs.harvard.edu/abs/1997ApJ...490..368C/abstract)):\n",
    "\n",
    "$\\Large \\varphi \\left( r \\right) = \\frac{0.04 R_*}{r} + r\\frac{\\mathrm{d}}{\\mathrm{d}r} \\left( \\frac{H_\\mathrm{s}}{r} \\right)$.\n",
    "\n",
    "$H_\\mathrm{s}$ is the surface height, i.e., the height above the midplane at which the optical depth $\\tau_r$ of the disk to the stellar radiation is greater than $1$.\n",
    "\n",
    "[Dullemond et al. (2001)](https://ui.adsabs.harvard.edu/abs/2001ApJ...560..957D/abstract) showed that this is identical to solving the equation\n",
    "\n",
    "$\\Large 1 - \\mathrm{erf} \\left( \\frac{H_\\mathrm{s}}{\\sqrt{2}H_\\mathrm{P}} \\right) = \\frac{2\\varphi}{\\tau}$\n",
    "\n",
    "with $\\tau_r = \\tau/\\varphi$. Since $H_\\mathrm{s}$ depends on the temperature $T$ via the flaring angle $\\varphi$ and vice-versa, this has to be solved iteratively."
   ]
  },
  {
   "cell_type": "markdown",
   "id": "f69838ca-6445-4149-aee4-a8a312dbd067",
   "metadata": {},
   "source": [
    "## The Project"
   ]
  },
  {
   "cell_type": "markdown",
   "id": "cd73a33d-e5ce-45ce-b881-fbc11f3e09c2",
   "metadata": {},
   "source": [
    "The goal of this project is to implement a self-consistent temperature profile, i.e., a profile that does not assume a constant flaring angle $\\varphi$.\n",
    "\n",
    "In a first step you can use DustPyLib and run a thermal RADMC-3D model of the default DustPy setup to compare the midplane temperature DustPy assumes with the result from RADMC-3D. A detailed manual how to achieve this can be found in the [DustPyLib documentation](https://dustpylib.readthedocs.io/en/latest/radmc3d.html#Thermal-Monte-Carlo-run).\n",
    "\n",
    "In the next step you can add fields for the surface height and the flaring angle into the DustPy simulation object, write functions to compute them and add them to their updaters.\n",
    "\n",
    "Finally, modify the temperature function to compute the flaring angle self-consistently.\n",
    "\n",
    "**Warning:** This iterative problem can be unstable.\n",
    "\n",
    "To solve the equation for $H_\\mathrm{s}$ you can use `scipy.optimize.brentq`. The error function can be found in `scipy.special.erf`."
   ]
  },
  {
   "cell_type": "markdown",
   "id": "aa7eabee-8600-4a33-a26d-12e54fdd85cb",
   "metadata": {},
   "source": [
    "## Creating simulation object"
   ]
  },
  {
   "cell_type": "code",
   "execution_count": 1,
   "id": "f10b91a3-85ee-4fc5-aa60-812217037752",
   "metadata": {},
   "outputs": [],
   "source": [
    "from dustpy import constants as c\n",
    "from dustpy import Simulation\n",
    "import numpy as np"
   ]
  },
  {
   "cell_type": "code",
   "execution_count": 2,
   "id": "3befda48-7023-42ec-bfb4-952453b750aa",
   "metadata": {},
   "outputs": [],
   "source": [
    "sim = Simulation()\n",
    "sim.ini.star.M = 0.1 * c.M_sun\n",
    "sim.ini.gas.Mdisk = 0.05 * sim.ini.star.M\n",
    "sim.ini.dust.allowDriftingParticles = True\n",
    "sim.initialize()"
   ]
  },
  {
   "cell_type": "markdown",
   "id": "e58cde9a-b0ca-4608-9038-3f648ca486d9",
   "metadata": {},
   "source": [
    "## Creating/loading opacity file"
   ]
  },
  {
   "cell_type": "markdown",
   "id": "12295191-88f3-4b46-bb6a-1b0995ce28b6",
   "metadata": {},
   "source": [
    "To compute the optical depth we need some opacity model. We are using `dsharp_opac` to compute the DSHARP opacities ([Birnstiel et al., 2018](https://ui.adsabs.harvard.edu/abs/2018ApJ...869L..45B/abstract)). This has to be only done once. The result is stored in a file that can be used later."
   ]
  },
  {
   "cell_type": "code",
   "execution_count": 3,
   "id": "38c6fe3a-623d-4239-8919-d4ad028d2455",
   "metadata": {},
   "outputs": [],
   "source": [
    "opacfile = \"dsharp.npz\""
   ]
  },
  {
   "cell_type": "code",
   "execution_count": 4,
   "id": "a77f29b3-9b46-4831-b070-64537d701d1a",
   "metadata": {},
   "outputs": [],
   "source": [
    "from pathlib import Path"
   ]
  },
  {
   "cell_type": "code",
   "execution_count": 5,
   "id": "ea2a701c-3f16-45a4-92e9-34a875582eed",
   "metadata": {},
   "outputs": [],
   "source": [
    "opacdir = Path(\"opacities\")\n",
    "opacpath = opacdir.joinpath(opacfile)"
   ]
  },
  {
   "cell_type": "code",
   "execution_count": 6,
   "id": "31dd2f38-0ece-480c-b727-387c0d1bee63",
   "metadata": {},
   "outputs": [],
   "source": [
    "# Compute opacities only if opacity file does not exist\n",
    "if not opacpath.is_file():\n",
    "    # Create opacity directory if it does not exist\n",
    "    opacdir.mkdir(exist_ok=True, parents=True)\n",
    "    # Size and wavelength grid\n",
    "    a = np.geomspace(1.e-6, 1.e2, 161)\n",
    "    lam = np.geomspace(1.e-5, 1.e1, 121)\n",
    "    import dsharp_opac as do\n",
    "    mix, rhos = do.get_dsharp_mix()\n",
    "    opac = do.get_opacities(a, lam, rhos, mix, extrapol=True, extrapolate_large_grains=True)\n",
    "    # Saving to file\n",
    "    np.savez(\n",
    "        opacfile,\n",
    "        a = a,\n",
    "        lam = lam,\n",
    "        k_abs = opac[\"k_abs\"],\n",
    "        k_sca = opac[\"k_sca\"],\n",
    "        g = opac[\"g\"]\n",
    "    )"
   ]
  },
  {
   "cell_type": "markdown",
   "id": "2f217c1e-2c44-4f10-a6d5-d3c08425d53f",
   "metadata": {},
   "source": [
    "## Computing Planck mean opacity"
   ]
  },
  {
   "cell_type": "markdown",
   "id": "1c8efc51-b957-4f91-9846-78c47372f1c1",
   "metadata": {},
   "source": [
    "We are using the DSHARP opacities to compute an average opacity over the stellar spectrum. This is called the Planck mean opacity and is defined as\n",
    "\n",
    "$\\Large \\kappa_\\mathrm{P} \\left( a,  T_* \\right) = \\frac{\\int\\limits_0^\\infty \\kappa_\\nu \\left(a\\right) B_\\nu\\left(T_*\\right)\\mathrm{d}\\nu}{\\int\\limits_0^\\infty B_\\nu\\left(T_*\\right)\\mathrm{d}\\nu}$\n",
    "\n",
    "for a given particle size $a$ at a given stellar temperature $T_*$.\n",
    "\n",
    "The optical thickness is then given as the sum over all particle bins\n",
    "\n",
    "$\\Large \\tau = \\sum\\limits_{i=1}^{N_m} \\Sigma_{\\mathrm{d}, i} \\cdot \\kappa_\\mathrm{P} \\left(a_i, T_*\\right)$.\n",
    "\n",
    "We therefore need to write a function that computes the Planck function $B_\\nu$. The Planck mean opacity could be pre-computed and stored in a lookup table. Here we are using `scipy.interpolate.RegularGridInterpolator`, which is doing that for us and interpolating for us later at the desired size and temperature points."
   ]
  },
  {
   "cell_type": "code",
   "execution_count": 7,
   "id": "014a0248-62ab-43ed-bafa-7c3fc12b8797",
   "metadata": {},
   "outputs": [],
   "source": [
    "from astropy import constants as ac\n",
    "from scipy.interpolate import RegularGridInterpolator\n",
    "import warnings"
   ]
  },
  {
   "cell_type": "markdown",
   "id": "c8793fbc-f619-4dbc-8720-8fa45e59e656",
   "metadata": {},
   "source": [
    "The exponential function can raise some warnings if the arguments are too large. We are turning them off."
   ]
  },
  {
   "cell_type": "code",
   "execution_count": 8,
   "id": "7c72eab9-6f2b-4c2c-b501-9f87252f51e7",
   "metadata": {},
   "outputs": [],
   "source": [
    "def B_nu(nu, T):\n",
    "    with warnings.catch_warnings():\n",
    "        warnings.filterwarnings(\"ignore\")\n",
    "        exp = np.exp(nu/T * ac.h.cgs.value / ac.k_B.cgs.value)\n",
    "    return 2 * ac.h.cgs.value * nu**3 / ac.c.cgs.value / (exp-1.)"
   ]
  },
  {
   "cell_type": "markdown",
   "id": "2212208d-47fc-44bd-a5bc-ac11231e86b4",
   "metadata": {},
   "source": [
    "This function takes the opacity file we created earlier and uses `RegularGridInterpolator` to compute the Planck mean opacity. The result is a function $\\kappa_\\mathrm{P} \\left( a,  T_* \\right)$ that can be used to easily (and quickly) get the Planck mean opacity."
   ]
  },
  {
   "cell_type": "code",
   "execution_count": 9,
   "id": "f6d6172a-206c-485b-8116-64ad5c181b29",
   "metadata": {},
   "outputs": [],
   "source": [
    "def compute_planck_mean(npzfile):\n",
    "    opac = np.load(npzfile)\n",
    "    # We are using the size and frequency/wavelength grid from the opacity file\n",
    "    a = opac[\"a\"]\n",
    "    lam = opac[\"lam\"]\n",
    "    nu = ac.c.cgs.value/lam\n",
    "    # The Planck mean opacity is computed using the absorption opacity\n",
    "    k_abs = opac[\"k_abs\"]\n",
    "    # Temperature grid\n",
    "    T = np.geomspace(0.1, 1.e5, 1000)\n",
    "    # Planck mean opacity\n",
    "    up = np.trapz(k_abs[..., None] * B_nu(nu[:, None], T[None, :])[None, ...], x=nu, axis=1)\n",
    "    down = np.trapz(B_nu(nu[:, None], T[None, :]), x=nu, axis=0)\n",
    "    k_p = up/down[None, ...]\n",
    "    k_planck = RegularGridInterpolator((a, T), k_p)\n",
    "    return k_planck"
   ]
  },
  {
   "cell_type": "markdown",
   "id": "2cc48aae-766d-447d-837f-0ddd40cd8bdc",
   "metadata": {},
   "source": [
    "We can now check if the Interpolator works as intended, by plotting the opacity at given temperatures."
   ]
  },
  {
   "cell_type": "code",
   "execution_count": 10,
   "id": "3fb91f73-da1a-45b9-97aa-68d0a32c2b08",
   "metadata": {},
   "outputs": [],
   "source": [
    "k_planck = compute_planck_mean(opacpath)"
   ]
  },
  {
   "cell_type": "code",
   "execution_count": 11,
   "id": "5e92a042-b196-45c6-8f8a-43ed321e6f75",
   "metadata": {},
   "outputs": [],
   "source": [
    "import matplotlib.pyplot as plt\n",
    "plt.rcParams[\"figure.dpi\"] = 150."
   ]
  },
  {
   "cell_type": "code",
   "execution_count": 12,
   "id": "b450f482-3dd6-4438-b1de-26dfe5308801",
   "metadata": {},
   "outputs": [
    {
     "data": {
      "image/png": "[encoded data removed]",
      "text/plain": [
       "<Figure size 960x720 with 1 Axes>"
      ]
     },
     "metadata": {},
     "output_type": "display_data"
    }
   ],
   "source": [
    "fig, ax = plt.subplots()\n",
    "a = np.geomspace(1.e-5, 1., 61)\n",
    "T = [50., 100., 1000.]\n",
    "for temp in T:\n",
    "    ax.loglog(a, k_planck((a, temp)), label=\"{:.0f} K\".format(temp))\n",
    "ax.set_xlim(a.min(), a.max())\n",
    "ax.set_xlabel(\"Particle size [cm]\")\n",
    "ax.set_ylabel(\"$\\kappa_\\mathrm{P}$ [cm²/g]\")\n",
    "ax.legend(title=\"Temperature\")\n",
    "fig.tight_layout()"
   ]
  },
  {
   "cell_type": "markdown",
   "id": "a571b6bc-ba48-4b0d-9774-a45808d445dc",
   "metadata": {},
   "source": [
    "## Adding opacity related fields"
   ]
  },
  {
   "cell_type": "markdown",
   "id": "ff1cf1dc-3ad5-408f-a571-09aa09e05be2",
   "metadata": {},
   "source": [
    "We are storing the opacity related fields in a separate group within our simulation object."
   ]
  },
  {
   "cell_type": "code",
   "execution_count": 13,
   "id": "f77da8c5-802a-4271-85d2-9390de6e6b73",
   "metadata": {},
   "outputs": [],
   "source": [
    "sim.addgroup(\"opacities\", description=\"Opacity related parameters\")"
   ]
  },
  {
   "cell_type": "markdown",
   "id": "c262e039-88c8-4ff5-8b6b-b43cb1d8bf70",
   "metadata": {},
   "source": [
    "The interpolator for the Planck mean opacity is stored in a hidden attribute and can be accessed by other functions."
   ]
  },
  {
   "cell_type": "code",
   "execution_count": 14,
   "id": "0e87a9cb-7410-4c0c-9e36-cf0b513fc9c6",
   "metadata": {},
   "outputs": [],
   "source": [
    "sim.opacities._kp = k_planck"
   ]
  },
  {
   "cell_type": "markdown",
   "id": "ec1b6d72-14ba-4023-b69b-b1de8265882c",
   "metadata": {},
   "source": [
    "In the next step we add a field for the Planck mean opacity and write a function that computes the opacity at every radial grid cell for every particle size. This function is then added to the updater of the field. Technically, neither the particle size grid, nor the stellar temperature changes in the default simulation setup. The field is therefore constant throughout the simulation."
   ]
  },
  {
   "cell_type": "code",
   "execution_count": 15,
   "id": "9a12d3d0-a16a-459a-bb64-1219eeadb9d0",
   "metadata": {},
   "outputs": [],
   "source": [
    "def kappa_planck(sim):\n",
    "    return sim.opacities._kp((sim.dust.a, sim.star.T))"
   ]
  },
  {
   "cell_type": "code",
   "execution_count": 16,
   "id": "84441c07-b656-4a2a-a5b3-cbcaecfbc1b9",
   "metadata": {},
   "outputs": [],
   "source": [
    "sim.opacities.addfield(\"k_planck\", np.zeros_like(sim.dust.Sigma), description=\"Planck mean opacity [cm²/g]\")\n",
    "sim.opacities.k_planck.updater = kappa_planck\n",
    "sim.opacities.k_planck.update()"
   ]
  },
  {
   "cell_type": "markdown",
   "id": "4d0d0cc4-b605-4b9a-8db1-39057240729f",
   "metadata": {},
   "source": [
    "Next we are adding a field for the optical depth."
   ]
  },
  {
   "cell_type": "code",
   "execution_count": 17,
   "id": "0626c741-3ef3-4522-a12c-1a49d8b0af28",
   "metadata": {},
   "outputs": [],
   "source": [
    "def tau(sim):\n",
    "    return (sim.opacities.k_planck*sim.dust.Sigma).sum(-1)"
   ]
  },
  {
   "cell_type": "code",
   "execution_count": 18,
   "id": "9ec1fc5b-9220-4c0a-95c3-369ed05d5daf",
   "metadata": {},
   "outputs": [],
   "source": [
    "sim.opacities.addfield(\"tau\", np.zeros_like(sim.gas.Sigma), description=\"Optical depth\")\n",
    "sim.opacities.tau.updater = tau\n",
    "sim.opacities.tau.update()"
   ]
  },
  {
   "cell_type": "markdown",
   "id": "b3698eba-f433-4596-a052-8500c5bcc1fc",
   "metadata": {},
   "source": [
    "We can inspect the optical depth to see that the disk is optically thick in the inner and optically thin in the outer parts."
   ]
  },
  {
   "cell_type": "code",
   "execution_count": 19,
   "id": "438eef43-aac5-4514-b20f-4dc266a3ea61",
   "metadata": {},
   "outputs": [
    {
     "data": {
      "image/png": "[encoded data removed]",
      "text/plain": [
       "<Figure size 960x720 with 1 Axes>"
      ]
     },
     "metadata": {},
     "output_type": "display_data"
    }
   ],
   "source": [
    "fig, ax = plt.subplots()\n",
    "ax.loglog(sim.grid.r/c.au, sim.opacities.tau)\n",
    "ax.set_xlim(sim.grid.r.min()/c.au, sim.grid.r.max()/c.au)\n",
    "ax.set_ylim(1.e-5, 1.e5)\n",
    "fig.tight_layout()"
   ]
  },
  {
   "cell_type": "markdown",
   "id": "c34eda3f-b135-4668-b296-8a76cdd90c72",
   "metadata": {},
   "source": [
    "And finally we add an updater for the entire opacity group."
   ]
  },
  {
   "cell_type": "code",
   "execution_count": 20,
   "id": "85cb1a37-be2f-4ffe-ac45-d166252252d1",
   "metadata": {},
   "outputs": [],
   "source": [
    "sim.opacities.updater = [\"k_planck\", \"tau\"]"
   ]
  },
  {
   "cell_type": "markdown",
   "id": "a2a03b40-8484-43ff-a9d7-e00bc6526c89",
   "metadata": {},
   "source": [
    "## Adding fields for flaring index, flaring angle, and surface height"
   ]
  },
  {
   "cell_type": "markdown",
   "id": "ed47f91b-716c-414b-9aff-3582b69df794",
   "metadata": {},
   "source": [
    "Now comes the fun part. We need fields for the flaring angle, the flaring index, and the disk surface. The flaring angle is easy and computed from the flaring index."
   ]
  },
  {
   "cell_type": "code",
   "execution_count": 21,
   "id": "20c28ce4-1bfb-4cd0-a297-8839c99e76d2",
   "metadata": {},
   "outputs": [],
   "source": [
    "sim.gas.addfield(\"flindex\", np.zeros_like(sim.gas.Sigma), description=\"Flaring index\")\n",
    "sim.gas.addfield(\"flangle\", 0.05*np.ones_like(sim.gas.Sigma), description=\"Flaring angle\")\n",
    "sim.gas.addfield(\"Hs\", np.zeros_like(sim.gas.Sigma), description=\"Surface height [cm]\")"
   ]
  },
  {
   "cell_type": "code",
   "execution_count": 22,
   "id": "4d4babfa-29d5-4f80-9046-799c6adcaa47",
   "metadata": {},
   "outputs": [],
   "source": [
    "def flangle(sim):\n",
    "    return sim.gas.flindex*sim.gas.Hs/sim.grid.r + 0.4*sim.star.R/sim.grid.r"
   ]
  },
  {
   "cell_type": "code",
   "execution_count": 23,
   "id": "65f34798-ba3a-4996-9703-74e92fe622b1",
   "metadata": {},
   "outputs": [],
   "source": [
    "sim.gas.flangle.updater = flangle"
   ]
  },
  {
   "cell_type": "markdown",
   "id": "d00dc2d5-b936-478f-abe0-7444da8d250d",
   "metadata": {},
   "source": [
    "The flaring index is more complicated. Here we are only computing the flaring index at every third grid cell and copy values in between. This is to make the overall profile more smooth. You can try other values on your own by changing the `stride` parameter."
   ]
  },
  {
   "cell_type": "code",
   "execution_count": 24,
   "id": "4dd1cbe1-1a0d-41a0-9e20-3dc236a62119",
   "metadata": {},
   "outputs": [],
   "source": [
    "def flindex(sim):\n",
    "    Nr = int(sim.grid.Nr)\n",
    "    flidx = np.zeros_like(sim.gas.Sigma)\n",
    "    flmin = 1.e-2\n",
    "    stride = 3\n",
    "    for ir in range(2, Nr, stride):\n",
    "        hr2 = sim.gas.Hs[ir-2] / sim.grid.r[ir-2]\n",
    "        hr1 = sim.gas.Hs[ir-1] / sim.grid.r[ir-1]\n",
    "        if hr1 > 0.0 and hr2 > 0.0:\n",
    "            flidx[ir] = (sim.grid.r[ir-2] + sim.grid.r[ir-1]) * (hr2-hr1) / ((sim.grid.r[ir-2] - sim.grid.r[ir-1]) * (hr2 + hr1))\n",
    "        else:\n",
    "            flidx[ir] = flidx[ir - 1]\n",
    "        for i in range(1, stride):\n",
    "            j = ir+i\n",
    "            if j > Nr-1:\n",
    "                continue\n",
    "            flidx[j] = flidx[ir]\n",
    "    flidx[:2] = flidx[2]\n",
    "    flidx = np.maximum(flmin, flidx)\n",
    "    return flidx"
   ]
  },
  {
   "cell_type": "code",
   "execution_count": 25,
   "id": "c09564f8-8893-469a-a5b0-6ff6ed359083",
   "metadata": {},
   "outputs": [],
   "source": [
    "sim.gas.flindex.updater = flindex"
   ]
  },
  {
   "cell_type": "markdown",
   "id": "c21e159a-08f1-4dab-be36-00baf597e33b",
   "metadata": {},
   "source": [
    "And finally we need a function to compute the disk surface height from the flaring angle, the optical depth and the pressure scale height. You can use `scipy.optimize.brentq` to solve for $H_\\mathrm{s}$."
   ]
  },
  {
   "cell_type": "code",
   "execution_count": 26,
   "id": "c485b740-9720-4ba3-bb0a-fa2323dcb22a",
   "metadata": {},
   "outputs": [],
   "source": [
    "from scipy.optimize import brentq"
   ]
  },
  {
   "cell_type": "code",
   "execution_count": 27,
   "id": "dae412c1-1fd2-4f74-88ff-4855100cdef1",
   "metadata": {},
   "outputs": [
    {
     "name": "stdout",
     "output_type": "stream",
     "text": [
      "Help on function brentq in module scipy.optimize._zeros_py:\n",
      "\n",
      "brentq(f, a, b, args=(), xtol=2e-12, rtol=8.881784197001252e-16, maxiter=100, full_output=False, disp=True)\n",
      "    Find a root of a function in a bracketing interval using Brent's method.\n",
      "    \n",
      "    Uses the classic Brent's method to find a zero of the function `f` on\n",
      "    the sign changing interval [a , b]. Generally considered the best of the\n",
      "    rootfinding routines here. It is a safe version of the secant method that\n",
      "    uses inverse quadratic extrapolation. Brent's method combines root\n",
      "    bracketing, interval bisection, and inverse quadratic interpolation. It is\n",
      "    sometimes known as the van Wijngaarden-Dekker-Brent method. Brent (1973)\n",
      "    claims convergence is guaranteed for functions computable within [a,b].\n",
      "    \n",
      "    [Brent1973]_ provides the classic description of the algorithm. Another\n",
      "    description can be found in a recent edition of Numerical Recipes, including\n",
      "    [PressEtal1992]_. A third description is at\n",
      "    http://mathworld.wolfram.com/BrentsMethod.html. It should be easy to\n",
      "    understand the algorithm just by reading our code. Our code diverges a bit\n",
      "    from standard presentations: we choose a different formula for the\n",
      "    extrapolation step.\n",
      "    \n",
      "    Parameters\n",
      "    ----------\n",
      "    f : function\n",
      "        Python function returning a number. The function :math:`f`\n",
      "        must be continuous, and :math:`f(a)` and :math:`f(b)` must\n",
      "        have opposite signs.\n",
      "    a : scalar\n",
      "        One end of the bracketing interval :math:`[a, b]`.\n",
      "    b : scalar\n",
      "        The other end of the bracketing interval :math:`[a, b]`.\n",
      "    xtol : number, optional\n",
      "        The computed root ``x0`` will satisfy ``np.allclose(x, x0,\n",
      "        atol=xtol, rtol=rtol)``, where ``x`` is the exact root. The\n",
      "        parameter must be nonnegative. For nice functions, Brent's\n",
      "        method will often satisfy the above condition with ``xtol/2``\n",
      "        and ``rtol/2``. [Brent1973]_\n",
      "    rtol : number, optional\n",
      "        The computed root ``x0`` will satisfy ``np.allclose(x, x0,\n",
      "        atol=xtol, rtol=rtol)``, where ``x`` is the exact root. The\n",
      "        parameter cannot be smaller than its default value of\n",
      "        ``4*np.finfo(float).eps``. For nice functions, Brent's\n",
      "        method will often satisfy the above condition with ``xtol/2``\n",
      "        and ``rtol/2``. [Brent1973]_\n",
      "    maxiter : int, optional\n",
      "        If convergence is not achieved in `maxiter` iterations, an error is\n",
      "        raised. Must be >= 0.\n",
      "    args : tuple, optional\n",
      "        Containing extra arguments for the function `f`.\n",
      "        `f` is called by ``apply(f, (x)+args)``.\n",
      "    full_output : bool, optional\n",
      "        If `full_output` is False, the root is returned. If `full_output` is\n",
      "        True, the return value is ``(x, r)``, where `x` is the root, and `r` is\n",
      "        a `RootResults` object.\n",
      "    disp : bool, optional\n",
      "        If True, raise RuntimeError if the algorithm didn't converge.\n",
      "        Otherwise, the convergence status is recorded in any `RootResults`\n",
      "        return object.\n",
      "    \n",
      "    Returns\n",
      "    -------\n",
      "    x0 : float\n",
      "        Zero of `f` between `a` and `b`.\n",
      "    r : `RootResults` (present if ``full_output = True``)\n",
      "        Object containing information about the convergence. In particular,\n",
      "        ``r.converged`` is True if the routine converged.\n",
      "    \n",
      "    Notes\n",
      "    -----\n",
      "    `f` must be continuous.  f(a) and f(b) must have opposite signs.\n",
      "    \n",
      "    Related functions fall into several classes:\n",
      "    \n",
      "    multivariate local optimizers\n",
      "      `fmin`, `fmin_powell`, `fmin_cg`, `fmin_bfgs`, `fmin_ncg`\n",
      "    nonlinear least squares minimizer\n",
      "      `leastsq`\n",
      "    constrained multivariate optimizers\n",
      "      `fmin_l_bfgs_b`, `fmin_tnc`, `fmin_cobyla`\n",
      "    global optimizers\n",
      "      `basinhopping`, `brute`, `differential_evolution`\n",
      "    local scalar minimizers\n",
      "      `fminbound`, `brent`, `golden`, `bracket`\n",
      "    N-D root-finding\n",
      "      `fsolve`\n",
      "    1-D root-finding\n",
      "      `brenth`, `ridder`, `bisect`, `newton`\n",
      "    scalar fixed-point finder\n",
      "      `fixed_point`\n",
      "    \n",
      "    References\n",
      "    ----------\n",
      "    .. [Brent1973]\n",
      "       Brent, R. P.,\n",
      "       *Algorithms for Minimization Without Derivatives*.\n",
      "       Englewood Cliffs, NJ: Prentice-Hall, 1973. Ch. 3-4.\n",
      "    \n",
      "    .. [PressEtal1992]\n",
      "       Press, W. H.; Flannery, B. P.; Teukolsky, S. A.; and Vetterling, W. T.\n",
      "       *Numerical Recipes in FORTRAN: The Art of Scientific Computing*, 2nd ed.\n",
      "       Cambridge, England: Cambridge University Press, pp. 352-355, 1992.\n",
      "       Section 9.3:  \"Van Wijngaarden-Dekker-Brent Method.\"\n",
      "    \n",
      "    Examples\n",
      "    --------\n",
      "    >>> def f(x):\n",
      "    ...     return (x**2 - 1)\n",
      "    \n",
      "    >>> from scipy import optimize\n",
      "    \n",
      "    >>> root = optimize.brentq(f, -2, 0)\n",
      "    >>> root\n",
      "    -1.0\n",
      "    \n",
      "    >>> root = optimize.brentq(f, 0, 2)\n",
      "    >>> root\n",
      "    1.0\n",
      "\n"
     ]
    }
   ],
   "source": [
    "help(brentq)"
   ]
  },
  {
   "cell_type": "code",
   "execution_count": 28,
   "id": "6a10551f-ab2f-4d84-b506-7b765aaea092",
   "metadata": {},
   "outputs": [],
   "source": [
    "def Hs(sim):\n",
    "    # Write a function that computes the surface height\n",
    "    pass"
   ]
  },
  {
   "cell_type": "code",
   "execution_count": 29,
   "id": "8de5e151-d8e5-4f1b-b401-00f10e540b68",
   "metadata": {},
   "outputs": [],
   "source": [
    "sim.gas.Hs.updater = Hs"
   ]
  },
  {
   "cell_type": "markdown",
   "id": "69bc1e42-c5e0-4876-a45f-470e6d3aac29",
   "metadata": {},
   "source": [
    "## Compute the temperature profile"
   ]
  },
  {
   "cell_type": "markdown",
   "id": "59f81400-69c0-4fe6-921f-dc978a585092",
   "metadata": {},
   "source": [
    "Now we have to compute the temperature profile. This is a bit tricky. We have to iterate serveral time and update the temperature. We cannot call `sim.gas.T.update()` in the updater itself, because that would cause infinite recursions. We therefore manually set the temperature in the loop within the updater. Add the update of the other required fields here."
   ]
  },
  {
   "cell_type": "code",
   "execution_count": 32,
   "id": "22204f5c-481f-42f6-aec1-8b2c97cec06a",
   "metadata": {},
   "outputs": [],
   "source": [
    "def T(sim):\n",
    "    # Compute the temperature iteratively while updating the flaring angle from the new temperature.\n",
    "    # Do not forget to update other quantities that depend on it.\n",
    "    for i in range(100):\n",
    "        # Add the updates of the other fields here.\n",
    "        sim.gas.T[:] = (0.125*sim.gas.flangle*sim.star.L / (np.pi*sim.grid.r**2*c.sigma_sb))**0.25\n",
    "    return T"
   ]
  },
  {
   "cell_type": "code",
   "execution_count": 31,
   "id": "f29d3a58-6b0e-4b19-ab82-531377860ee2",
   "metadata": {},
   "outputs": [],
   "source": [
    "sim.gas.T.updater = T"
   ]
  }
 ],
 "metadata": {
  "kernelspec": {
   "display_name": "Python 3 (ipykernel)",
   "language": "python",
   "name": "python3"
  },
  "language_info": {
   "codemirror_mode": {
    "name": "ipython",
    "version": 3
   },
   "file_extension": ".py",
   "mimetype": "text/x-python",
   "name": "python",
   "nbconvert_exporter": "python",
   "pygments_lexer": "ipython3",
   "version": "3.11.3"
  }
 },
 "nbformat": 4,
 "nbformat_minor": 5
}
