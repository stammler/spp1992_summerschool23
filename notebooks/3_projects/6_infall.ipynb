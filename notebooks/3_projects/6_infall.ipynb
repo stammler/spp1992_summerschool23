{
 "cells": [
  {
   "cell_type": "markdown",
   "id": "97cbe702-d693-49df-b984-97c9400d0027",
   "metadata": {},
   "source": [
    "# Infall"
   ]
  },
  {
   "cell_type": "markdown",
   "id": "3b3b7bdd-ed1c-481b-8338-6ee5199fcd5d",
   "metadata": {},
   "source": [
    "So far models of planetesimal formation (e.g. [Stammler et al. (2019)](https://ui.adsabs.harvard.edu/abs/2019ApJ...884L...5S/abstract) or [Miller et al. (2021)](https://ui.adsabs.harvard.edu/abs/2021MNRAS.508.5638M/abstract)) artificially created pressure bumps to trigger planetesimal formation. But what is the source that triggered initial planetesimal formation in a smooth disk?\n",
    "\n",
    "One idea is that planetesimal form first at ice lines ([Drążkowska & Alibert, 2017](https://ui.adsabs.harvard.edu/abs/2017A%26A...608A..92D/abstract)). Another idea is that clumps of infalling matter cause short-lived overdensities that could trigger the formation of planetesimals."
   ]
  },
  {
   "cell_type": "markdown",
   "id": "59262e19-07ad-4694-8900-c7c0021f069f",
   "metadata": {},
   "source": [
    "## The Project\n",
    "\n",
    "Set up a DustPy simulation of a smooth disk and add one of the [planetesimal formation methods](https://dustpylib.readthedocs.io/en/latest/planetesimal_formation.html) of DustPyLib. Add external source terms in gas and dust (`sim.gas.S.ext` and `sim.dust.S.ext`) that simulate the late infall of matter onto the disk. Can this be enough to trigger planetesimal formation? What mass infall rate is required? Is this value reasonable? How does the width of the infall region influence the result?"
   ]
  }
 ],
 "metadata": {
  "kernelspec": {
   "display_name": "Python 3 (ipykernel)",
   "language": "python",
   "name": "python3"
  },
  "language_info": {
   "codemirror_mode": {
    "name": "ipython",
    "version": 3
   },
   "file_extension": ".py",
   "mimetype": "text/x-python",
   "name": "python",
   "nbconvert_exporter": "python",
   "pygments_lexer": "ipython3",
   "version": "3.11.3"
  }
 },
 "nbformat": 4,
 "nbformat_minor": 5
}
