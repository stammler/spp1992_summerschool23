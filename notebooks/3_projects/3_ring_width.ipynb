{
 "cells": [
  {
   "cell_type": "markdown",
   "id": "b2d95f39-ddb3-4a54-9023-f0ad743d1b32",
   "metadata": {},
   "source": [
    "# Dust Ring Width"
   ]
  },
  {
   "cell_type": "markdown",
   "id": "86323ef4-e409-4c68-96e8-64af99821317",
   "metadata": {},
   "source": [
    "Dust rings are ubiquitous in protoplanetary disk as can be seen for example in [Andrews et al. (2016)](https://ui.adsabs.harvard.edu/abs/2018ApJ...869L..41A/abstract). [Dullemond at al. (2018)](https://ui.adsabs.harvard.edu/abs/2018ApJ...869L..46D/abstract) showed that these rings show signs of particle trapping in pressure bumps. The radial intensity profile of these rings is not quite Gaussian showing deviations at the tails. This could be explained by the particle size distribution itself with different particle sizes experiencing different levels of diffusion."
   ]
  },
  {
   "cell_type": "markdown",
   "id": "76c0f51a-5910-4b9e-98db-e9a2cae83fd8",
   "metadata": {},
   "source": [
    "## The Project\n",
    "\n",
    "Set up a DustPy simulation with a gap carved by a planet which accumulated dust in the pressure bump at the outer edge of the gap. An example can be seen in the [\"Planetary Gaps\" chapter](https://stammler.github.io/dustpy/example_planetary_gaps.html) in the DustPy documentation. Create radio images from the simulation with RADMC-3D using [DustPyLib](https://dustpylib.readthedocs.io/en/latest/radmc3d.html#Radio-images) and plot the radial intensity profile. How does it compare to a Gaussian? How does the fragmentation velocity influence the profile? What influence does the radial dust diffusion `sim.dust.delta.rad` have on the width of the ring? What is the spectral index across the ring?"
   ]
  }
 ],
 "metadata": {
  "kernelspec": {
   "display_name": "Python 3 (ipykernel)",
   "language": "python",
   "name": "python3"
  },
  "language_info": {
   "codemirror_mode": {
    "name": "ipython",
    "version": 3
   },
   "file_extension": ".py",
   "mimetype": "text/x-python",
   "name": "python",
   "nbconvert_exporter": "python",
   "pygments_lexer": "ipython3",
   "version": "3.11.3"
  }
 },
 "nbformat": 4,
 "nbformat_minor": 5
}
