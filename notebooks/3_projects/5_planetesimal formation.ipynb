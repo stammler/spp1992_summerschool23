{
 "cells": [
  {
   "cell_type": "markdown",
   "id": "3e0c0ebc-717b-49ce-bae8-588270de85e6",
   "metadata": {},
   "source": [
    "# Planetesimal Formation"
   ]
  },
  {
   "cell_type": "markdown",
   "id": "42f400c3-ee0e-4f5c-98e4-98cd4748e41d",
   "metadata": {},
   "source": [
    "Previous publications investigated planetesimal formation in pressure bump ([Stammler et al., 2019](https://ui.adsabs.harvard.edu/abs/2019ApJ...884L...5S/abstract)) and migrating pressure bumps ([Miller et al., 2021](https://ui.adsabs.harvard.edu/abs/2021MNRAS.508.5638M/abstract)). Especially the latter one showed that planetesimal formation can be very efficient with most of the dust mass outside of the pressure maximum being converted into planetesimals. So far no one has investigated planetesimal formation models with several pressure bumps within the disk."
   ]
  },
  {
   "cell_type": "markdown",
   "id": "d5c10d7b-359c-444e-820d-f31c10e1e180",
   "metadata": {},
   "source": [
    "## The Project\n",
    "\n",
    "Set up a DustPy simulation with multiple planets using gap profiles provided by [DustPyLib](https://dustpylib.readthedocs.io/en/latest/planetary_gaps.html). Include one of the [planetesimal formation methods](https://dustpylib.readthedocs.io/en/latest/planetesimal_formation.html) of DustPyLib. If you want you can have the planets migrate as in [Miller et al. (2021)](https://ui.adsabs.harvard.edu/abs/2021MNRAS.508.5638M/abstract) (section 2.8).\n",
    "\n",
    "Can an outer pressure bump isolate the inner from dust flux preventing planetesimal formation at the inner pressure bump?"
   ]
  }
 ],
 "metadata": {
  "kernelspec": {
   "display_name": "Python 3 (ipykernel)",
   "language": "python",
   "name": "python3"
  },
  "language_info": {
   "codemirror_mode": {
    "name": "ipython",
    "version": 3
   },
   "file_extension": ".py",
   "mimetype": "text/x-python",
   "name": "python",
   "nbconvert_exporter": "python",
   "pygments_lexer": "ipython3",
   "version": "3.11.3"
  }
 },
 "nbformat": 4,
 "nbformat_minor": 5
}
