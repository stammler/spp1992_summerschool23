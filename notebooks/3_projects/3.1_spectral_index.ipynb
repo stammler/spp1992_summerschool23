{
 "cells": [
  {
   "cell_type": "markdown",
   "id": "3eb3f6ec-28a0-4ec8-9511-0468651b2416",
   "metadata": {},
   "source": [
    "# Spectral Index"
   ]
  },
  {
   "cell_type": "markdown",
   "id": "1c11a347-317e-4421-b893-5b01139d7007",
   "metadata": {},
   "source": [
    "The spectral index is the local slope of the SED in logspace, i.e. the local power law exponent and defined as\n",
    "\n",
    "$\\Large \\alpha_\\mathrm{mm} = -\\frac{\\mathrm{d} \\log F_\\nu}{\\mathrm{d} \\log \\nu} = 3 - \\frac{x}{e^x-1} + \\beta\\frac{\\tau_\\nu}{e^{\\tau_\\nu}-1}$\n",
    "\n",
    "with $x=\\frac{h\\nu}{k_\\mathrm{B}T}$ and assuming the opacity being a power law $\\kappa_\\nu \\propto \\nu^\\beta$. In the long-wavelength limit $\\left(x \\ll 1\\right)$ and for large optical depths $\\left( \\tau_\\nu \\gg 1 \\right)$ the spectral index will approch $\\alpha_\\mathrm{mm}=2$.\n",
    "\n",
    "The exponent $\\beta$ depends on the particle size distribution, especially on the maximum particle size and can be used to infer particle sizes from observations (c.f. [Birnstiel et al., 2018](https://ui.adsabs.harvard.edu/abs/2018ApJ...869L..45B/abstract), their figure 4)."
   ]
  },
  {
   "cell_type": "markdown",
   "id": "37bf19b0-be27-4fcb-802a-4e5dd4e4b301",
   "metadata": {},
   "source": [
    "## The Project\n",
    "\n",
    "Set up a single DustPy simulation with different particle size distributions. This can be achieved for example by having several transitions in the fragmentation velocity as in the [\"Ice Lines\" example](https://stammler.github.io/dustpy/example_ice_lines.html) in the DustPy documentation. You can either let the simulation run until the dust distribution has reached their limits or manually set the distributions as shown in the tutorial.\n",
    "\n",
    "Create spectral index maps using RADMC-3D as explained here in the [DustPyLib documentation](https://dustpylib.readthedocs.io/en/latest/radmc3d.html#Spectral-index-maps). Can you confirm that optically thick regions tend have a spectral index of $2$? Can you see a difference in the spectral index in the different fragmentation velocity regions of the disk? Can you distinguish a fragmentation-limited size distribution from a drift-limited size distribution?"
   ]
  }
 ],
 "metadata": {
  "kernelspec": {
   "display_name": "Python 3 (ipykernel)",
   "language": "python",
   "name": "python3"
  },
  "language_info": {
   "codemirror_mode": {
    "name": "ipython",
    "version": 3
   },
   "file_extension": ".py",
   "mimetype": "text/x-python",
   "name": "python",
   "nbconvert_exporter": "python",
   "pygments_lexer": "ipython3",
   "version": "3.11.3"
  }
 },
 "nbformat": 4,
 "nbformat_minor": 5
}
