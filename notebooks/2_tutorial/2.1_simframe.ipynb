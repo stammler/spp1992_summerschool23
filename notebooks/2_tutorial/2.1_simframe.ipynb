{
 "cells": [
  {
   "cell_type": "markdown",
   "id": "38734c05-c550-41ad-af90-daf54d221dfe",
   "metadata": {},
   "source": [
    "# Simframe"
   ]
  },
  {
   "cell_type": "markdown",
   "id": "66eeab78-e4de-4514-94ad-a8ceed90167e",
   "metadata": {},
   "source": [
    "[Simframe](https://simframe.readthedocs.io/en/latest/) is a Python framework to set up scientific simulations. Since DustPy is based in Simframe this notebook will be a short and concise tutorial on the usage and philosophy of Simframe.\n",
    "\n",
    "Simframe allows you to easily integrate differential equations by simply providing a function returning the derivative of a quantity. The advantage is that you do not have to care about peripherals such as organizing the structure of your project or writing and reading data files. These things are dealt with by Simframe under the hood.\n",
    "\n",
    "Consider the following simple problem that we want to solve:\n",
    "\n",
    "$\\Large \\frac{\\mathrm{d}}{\\mathrm{d}t} Y = -bY$\n",
    "\n",
    "with the initial condition \n",
    "\n",
    "$\\Large Y\\left( t=0 \\right) = A$.\n",
    "\n",
    "The solution of this problem is known\n",
    "\n",
    "$\\Large Y\\left( t \\right) = A  e^{-bt}$.\n",
    "\n",
    "Additionally, we do not only want to integrate the quantity $Y$, but we want to also compute the quantity $T$, which depends in $Y$ via\n",
    "\n",
    "$\\Large T = - \\frac{1}{b} \\log \\frac{Y}{A}$,\n",
    "\n",
    "which has the simple solution $Y=t$ in this case."
   ]
  },
  {
   "cell_type": "markdown",
   "id": "4c148be4-e770-47eb-9c63-287e3a59b730",
   "metadata": {},
   "source": [
    "## Setting up the model"
   ]
  },
  {
   "cell_type": "code",
   "execution_count": 1,
   "id": "36a5c316-02dd-47de-963b-1fa276f4af16",
   "metadata": {},
   "outputs": [],
   "source": [
    "from simframe import Frame"
   ]
  },
  {
   "cell_type": "code",
   "execution_count": 2,
   "id": "6560ee8a-9d11-4745-99f1-b5a395fdbbf0",
   "metadata": {},
   "outputs": [],
   "source": [
    "sim = Frame(description=\"Simple example\")"
   ]
  },
  {
   "cell_type": "markdown",
   "id": "8bcca17d-f44a-44f2-ab32-bb4d8ffc4ff3",
   "metadata": {},
   "source": [
    "In the first step we create a Simframe object, which is an empty frame to be filled by us at the moment."
   ]
  },
  {
   "cell_type": "code",
   "execution_count": 3,
   "id": "edc56488-2904-4833-9308-d1b2bc97d7c2",
   "metadata": {},
   "outputs": [
    {
     "data": {
      "text/plain": [
       "Frame (Simple example)\n",
       "----------------------\n",
       "    Integrator   : \u001b[93mnot specified\u001b[0m\n",
       "    Writer       : \u001b[93mnot specified\u001b[0m"
      ]
     },
     "execution_count": 3,
     "metadata": {},
     "output_type": "execute_result"
    }
   ],
   "source": [
    "sim"
   ]
  },
  {
   "cell_type": "markdown",
   "id": "a6d46d81-f520-45ef-ae49-c9d1db2735ba",
   "metadata": {},
   "source": [
    "### Structuring the simulation frame"
   ]
  },
  {
   "cell_type": "markdown",
   "id": "79cdb4fe-6532-4724-ac8a-4c9ed31ec6bd",
   "metadata": {},
   "source": [
    "Now we can create a group to store the simulation parameters $A$, $b$, as well as or desired time step of the integration $\\Delta t$."
   ]
  },
  {
   "cell_type": "code",
   "execution_count": 4,
   "id": "5c9f4d4b-5570-42eb-811b-9906710770af",
   "metadata": {},
   "outputs": [],
   "source": [
    "sim.addgroup(\"pars\", description=\"Simulation parameters\")"
   ]
  },
  {
   "cell_type": "code",
   "execution_count": 5,
   "id": "a5f85f26-1018-4d6e-a386-4714a79f0b3d",
   "metadata": {},
   "outputs": [
    {
     "data": {
      "text/plain": [
       "Frame (Simple example)\n",
       "----------------------\n",
       "    pars         : Group (Simulation parameters)\n",
       "  -----\n",
       "    Integrator   : \u001b[93mnot specified\u001b[0m\n",
       "    Writer       : \u001b[93mnot specified\u001b[0m"
      ]
     },
     "execution_count": 5,
     "metadata": {},
     "output_type": "execute_result"
    }
   ],
   "source": [
    "sim"
   ]
  },
  {
   "cell_type": "markdown",
   "id": "32e1b14a-cf21-4b7b-b232-1c51d207dcc8",
   "metadata": {},
   "source": [
    "Then we add the parameters to the group."
   ]
  },
  {
   "cell_type": "code",
   "execution_count": 6,
   "id": "92bf4073-d33b-446a-b8d4-a85b19c91d1f",
   "metadata": {},
   "outputs": [],
   "source": [
    "sim.pars.addfield(\"A\", 10., description=\"Initial value of Y\", constant=True)\n",
    "sim.pars.addfield(\"b\", 1., description=\"Decay rate\", constant=True)\n",
    "sim.pars.addfield(\"dt\", 0.5, description=\"Time step\")"
   ]
  },
  {
   "cell_type": "code",
   "execution_count": 7,
   "id": "e38bc9a3-1eb8-4d4a-8f58-84f5f5245339",
   "metadata": {},
   "outputs": [
    {
     "data": {
      "text/plain": [
       "Group (Simulation parameters)\n",
       "-----------------------------\n",
       "    A            : Field (Initial value of Y), \u001b[95mconstant\u001b[0m\n",
       "    b            : Field (Decay rate), \u001b[95mconstant\u001b[0m\n",
       "    dt           : Field (Time step)\n",
       "  -----"
      ]
     },
     "execution_count": 7,
     "metadata": {},
     "output_type": "execute_result"
    }
   ],
   "source": [
    "sim.pars"
   ]
  },
  {
   "cell_type": "markdown",
   "id": "0055bd25-f9a5-4eaa-835b-8294baba955b",
   "metadata": {},
   "source": [
    "These parameters can be easily addressed."
   ]
  },
  {
   "cell_type": "code",
   "execution_count": 8,
   "id": "b415c517-e2ae-4ff3-8b11-649ac1816830",
   "metadata": {},
   "outputs": [
    {
     "data": {
      "text/plain": [
       "10.0"
      ]
     },
     "execution_count": 8,
     "metadata": {},
     "output_type": "execute_result"
    }
   ],
   "source": [
    "sim.pars.A"
   ]
  },
  {
   "cell_type": "markdown",
   "id": "9cd1fb46-8529-4e88-871d-3ecdf6f2ccd5",
   "metadata": {},
   "source": [
    "### Adding the integration variable"
   ]
  },
  {
   "cell_type": "markdown",
   "id": "76b2ea08-91de-4b91-a482-c566b4acfae8",
   "metadata": {},
   "source": [
    "In the next step we add the integration variable $t$."
   ]
  },
  {
   "cell_type": "code",
   "execution_count": 9,
   "id": "48c26a75-40e2-4c39-98e8-d7dde7d7425f",
   "metadata": {},
   "outputs": [],
   "source": [
    "sim.addintegrationvariable(\"t\", 0., description=\"Time\")"
   ]
  },
  {
   "cell_type": "code",
   "execution_count": 10,
   "id": "4ed37cfd-3687-4628-8475-5ec9f47fabfc",
   "metadata": {},
   "outputs": [
    {
     "data": {
      "text/plain": [
       "Frame (Simple example)\n",
       "----------------------\n",
       "    pars         : Group (Simulation parameters)\n",
       "  -----\n",
       "    t            : IntVar (Time), \u001b[95mIntegration variable\u001b[0m\n",
       "  -----\n",
       "    Integrator   : \u001b[93mnot specified\u001b[0m\n",
       "    Writer       : \u001b[93mnot specified\u001b[0m"
      ]
     },
     "execution_count": 10,
     "metadata": {},
     "output_type": "execute_result"
    }
   ],
   "source": [
    "sim"
   ]
  },
  {
   "cell_type": "markdown",
   "id": "4304067d-7f50-4d5d-a2f0-566eaf8c97b9",
   "metadata": {},
   "source": [
    "The integration variable needs two additional pieces of information:  \n",
    "It needs a prescription to calculate the time step it should take from the current state of the simulation frame. And it needs to know when to write output files.\n",
    "\n",
    "To compute the time step we have to provide a functions that takes the simulation frame as input and returns the timestep. In this simple example we simply want to return the time step stored in the parameters group."
   ]
  },
  {
   "cell_type": "code",
   "execution_count": 11,
   "id": "83b02196-aae5-47f4-bfa0-a00fa4d6582c",
   "metadata": {},
   "outputs": [],
   "source": [
    "def dt(sim):\n",
    "    return sim.pars.dt"
   ]
  },
  {
   "cell_type": "markdown",
   "id": "bdb1bfbc-fe67-4827-b2c8-81e076e1fc93",
   "metadata": {},
   "source": [
    "This function it then assigned to the so-called \"updater\" of the integration variable, because it tells the variable how to advance itself during an integration step. "
   ]
  },
  {
   "cell_type": "code",
   "execution_count": 12,
   "id": "e27c8c99-4031-432c-99d5-fcc605a00c81",
   "metadata": {},
   "outputs": [],
   "source": [
    "sim.t.updater = dt"
   ]
  },
  {
   "cell_type": "markdown",
   "id": "665d0f40-beb0-4597-ac25-1c8f8d84b530",
   "metadata": {},
   "source": [
    "Now we tell the integration variable at which values it should write output files. The final value is alse the final time of the simulation."
   ]
  },
  {
   "cell_type": "code",
   "execution_count": 13,
   "id": "01e318d3-992f-4f9a-8df7-d7968b6470b7",
   "metadata": {},
   "outputs": [],
   "source": [
    "import numpy as np"
   ]
  },
  {
   "cell_type": "code",
   "execution_count": 14,
   "id": "9e3018c8-fe4d-40ec-b465-5f341e642aa9",
   "metadata": {},
   "outputs": [],
   "source": [
    "sim.t.snapshots = np.arange(1., 11., 1.)"
   ]
  },
  {
   "cell_type": "markdown",
   "id": "71e80b8b-9dcb-4dcc-a9e7-783ad50e04ea",
   "metadata": {},
   "source": [
    "### Adding fields to the simulation frame"
   ]
  },
  {
   "cell_type": "markdown",
   "id": "0e84f88a-3f5f-4ffd-9e54-56576f8da7b8",
   "metadata": {},
   "source": [
    "Next we are going to add fields for the variables $Y$ and $T$ and initialize them with their respective values."
   ]
  },
  {
   "cell_type": "code",
   "execution_count": 15,
   "id": "5cdebdb5-32d2-4fb0-b337-c5007f802c4d",
   "metadata": {},
   "outputs": [],
   "source": [
    "sim.addfield(\"Y\", sim.pars.A, description=\"Integrated variable\")\n",
    "sim.addfield(\"T\", 0., description=\"Updated variable\")"
   ]
  },
  {
   "cell_type": "markdown",
   "id": "df8b1ac7-55e0-4878-b886-91930c27317d",
   "metadata": {},
   "source": [
    "Both variables are conceptually different: the first one is being integrated, while the second one is simply updated from the current state of the simulation frame.  \n",
    "In the latter case we simply have to provide a function that takes the simulation frame as input and returns the new values of the variable."
   ]
  },
  {
   "cell_type": "code",
   "execution_count": 16,
   "id": "5bc6e90b-0893-430b-8cbe-38355d0e8372",
   "metadata": {},
   "outputs": [],
   "source": [
    "def T(sim):\n",
    "    return -np.log(sim.Y/sim.pars.A) / sim.pars.b"
   ]
  },
  {
   "cell_type": "markdown",
   "id": "3f63f896-c0b6-4ebb-aedc-f197431dfda9",
   "metadata": {},
   "source": [
    "As previously, this function needs to be added to the updater of the field."
   ]
  },
  {
   "cell_type": "code",
   "execution_count": 17,
   "id": "ea79ae8f-158f-4c51-b668-ed2b87dc4cb6",
   "metadata": {},
   "outputs": [],
   "source": [
    "sim.T.updater = T"
   ]
  },
  {
   "cell_type": "markdown",
   "id": "f503f2db-c76f-4527-9563-4dd2cd65c10b",
   "metadata": {},
   "source": [
    "Additionally, we need to tell Simframe that it has to update this field once after every integration step. This can be done by adding the field to the updater of the simulation frame."
   ]
  },
  {
   "cell_type": "code",
   "execution_count": 18,
   "id": "bc7ae205-85b5-47a1-b577-5018404bafb4",
   "metadata": {},
   "outputs": [],
   "source": [
    "sim.updater = [\"T\"]"
   ]
  },
  {
   "cell_type": "markdown",
   "id": "c593004e-3a15-4b99-8f04-375afb4c5413",
   "metadata": {},
   "source": [
    "### Adding differential equations"
   ]
  },
  {
   "cell_type": "markdown",
   "id": "e2a3a359-1482-4ca1-8910-6766cb30ac7f",
   "metadata": {},
   "source": [
    "The field $Y$ is not updated, but integrated. We therefore have to provide a function that returns the derivative of the field. This function needs in addition to the simulation frame also the integration variable and the field itself as input parameters."
   ]
  },
  {
   "cell_type": "code",
   "execution_count": 19,
   "id": "f7090f1a-607c-48d3-a9d6-be651c1f3053",
   "metadata": {},
   "outputs": [],
   "source": [
    "def dYdt(sim, t, Y):\n",
    "    return -sim.pars.b*Y"
   ]
  },
  {
   "cell_type": "markdown",
   "id": "e5c94a2d-e34a-4401-bb17-f4391d476706",
   "metadata": {},
   "source": [
    "Instead of adding this function the updater, we have to add it to the \"differentiator\" of the field."
   ]
  },
  {
   "cell_type": "code",
   "execution_count": 20,
   "id": "94c8503b-d0cf-4ff3-a347-733a52c2c09e",
   "metadata": {},
   "outputs": [],
   "source": [
    "sim.Y.differentiator = dYdt"
   ]
  },
  {
   "cell_type": "markdown",
   "id": "8a007cfc-0eec-44e4-a425-739231c9d546",
   "metadata": {},
   "source": [
    "### Setting up the integrator"
   ]
  },
  {
   "cell_type": "markdown",
   "id": "8a26ebc5-ed9c-4f07-bf7f-31d8aa0a3127",
   "metadata": {},
   "source": [
    "In the next step we need to add an integrator to the simulation, which tells Simframe what needs to be integrated and how to do it. The integrator needs to be initialized with the integration variable that is relevant for this problem."
   ]
  },
  {
   "cell_type": "code",
   "execution_count": 21,
   "id": "e9aefbf6-da55-4de0-9e86-05d4fca71c71",
   "metadata": {},
   "outputs": [],
   "source": [
    "from simframe import Integrator"
   ]
  },
  {
   "cell_type": "code",
   "execution_count": 22,
   "id": "66a2198b-17fa-47b9-92f5-b54b76847e51",
   "metadata": {},
   "outputs": [],
   "source": [
    "sim.integrator = Integrator(sim.t)"
   ]
  },
  {
   "cell_type": "markdown",
   "id": "565ccab9-5228-4763-8b90-597c9fa00301",
   "metadata": {},
   "source": [
    "And we need to give the integrator a list of integration instructions that tell it, what variable needs to be integrated with which integration scheme. In this example we are using a simple explicit Euler first order scheme."
   ]
  },
  {
   "cell_type": "code",
   "execution_count": 23,
   "id": "8680539f-0cc6-484d-a7c1-c66265ce8bd9",
   "metadata": {},
   "outputs": [],
   "source": [
    "from simframe import Instruction\n",
    "from simframe import schemes"
   ]
  },
  {
   "cell_type": "code",
   "execution_count": 24,
   "id": "c60974ba-a033-4861-9c8b-7f3f4e9c6c73",
   "metadata": {},
   "outputs": [],
   "source": [
    "sim.integrator.instructions = [\n",
    "    Instruction(schemes.expl_1_euler, sim.Y)\n",
    "]"
   ]
  },
  {
   "cell_type": "markdown",
   "id": "9ff618bf-cf8c-432f-81f9-a88149ac73fe",
   "metadata": {},
   "source": [
    "### Configuring the writer"
   ]
  },
  {
   "cell_type": "markdown",
   "id": "5a9691fe-f239-4864-9a00-6ee9be41e553",
   "metadata": {},
   "source": [
    "In the last step we can tell Simframe how to writer output files. This is not strictly necessary. We could also run the simulation without writing any files. In this example we want to writer output files in the .hdf5 file format."
   ]
  },
  {
   "cell_type": "code",
   "execution_count": 25,
   "id": "2c4ee0af-cd18-4eb1-8f0f-4343fba59c84",
   "metadata": {},
   "outputs": [],
   "source": [
    "from simframe import writers"
   ]
  },
  {
   "cell_type": "code",
   "execution_count": 26,
   "id": "3a044114-eed1-40c5-8e9a-df9de530fbf8",
   "metadata": {},
   "outputs": [],
   "source": [
    "sim.writer = writers.hdf5writer()"
   ]
  },
  {
   "cell_type": "markdown",
   "id": "5583fa50-698b-457f-afc7-481da25c0569",
   "metadata": {},
   "source": [
    "We change the name of the datadirectory and allow Simframe to overwrite existing files."
   ]
  },
  {
   "cell_type": "code",
   "execution_count": 27,
   "id": "11adb8cb-6cd9-446c-9ce7-2e8c30a7f085",
   "metadata": {},
   "outputs": [],
   "source": [
    "sim.writer.datadir = \"simframe\"\n",
    "sim.writer.overwrite = True"
   ]
  },
  {
   "cell_type": "markdown",
   "id": "45f74172-e37a-4d90-92f2-03b4abcc65e4",
   "metadata": {},
   "source": [
    "## Running the simulation"
   ]
  },
  {
   "cell_type": "markdown",
   "id": "26812682-abf2-455a-9dce-b8ed6e33bf16",
   "metadata": {},
   "source": [
    "The simulation frame is now fully configured."
   ]
  },
  {
   "cell_type": "code",
   "execution_count": 28,
   "id": "dc81113c-c281-4d48-a318-5728f2d50f3b",
   "metadata": {},
   "outputs": [
    {
     "data": {
      "text/plain": [
       "Frame (Simple example)\n",
       "----------------------\n",
       "    pars         : Group (Simulation parameters)\n",
       "  -----\n",
       "    t            : IntVar (Time), \u001b[95mIntegration variable\u001b[0m\n",
       "    T            : Field (Updated variable)\n",
       "    Y            : Field (Integrated variable)\n",
       "  -----\n",
       "    Integrator   : Integrator\n",
       "    Writer       : Writer (HDF5 file format using h5py)"
      ]
     },
     "execution_count": 28,
     "metadata": {},
     "output_type": "execute_result"
    }
   ],
   "source": [
    "sim"
   ]
  },
  {
   "cell_type": "markdown",
   "id": "02874892-72ac-4dec-ae53-58c880c64dbe",
   "metadata": {},
   "source": [
    "We can start the simulation."
   ]
  },
  {
   "cell_type": "code",
   "execution_count": 29,
   "id": "13003813-f424-41c5-89fc-48d648030cbb",
   "metadata": {},
   "outputs": [
    {
     "name": "stdout",
     "output_type": "stream",
     "text": [
      "Creating data directory 'simframe'.\n",
      "Writing file \u001b[94msimframe/data0000.hdf5\u001b[0m\n",
      "Writing dump file \u001b[94msimframe/frame.dmp\u001b[0m\n",
      "Writing file \u001b[94msimframe/data0001.hdf5\u001b[0m\n",
      "Writing dump file \u001b[94msimframe/frame.dmp\u001b[0m\n",
      "Writing file \u001b[94msimframe/data0002.hdf5\u001b[0m\n",
      "Writing dump file \u001b[94msimframe/frame.dmp\u001b[0m\n",
      "Writing file \u001b[94msimframe/data0003.hdf5\u001b[0m\n",
      "Writing dump file \u001b[94msimframe/frame.dmp\u001b[0m\n",
      "Writing file \u001b[94msimframe/data0004.hdf5\u001b[0m\n",
      "Writing dump file \u001b[94msimframe/frame.dmp\u001b[0m\n",
      "Writing file \u001b[94msimframe/data0005.hdf5\u001b[0m\n",
      "Writing dump file \u001b[94msimframe/frame.dmp\u001b[0m\n",
      "Writing file \u001b[94msimframe/data0006.hdf5\u001b[0m\n",
      "Writing dump file \u001b[94msimframe/frame.dmp\u001b[0m\n",
      "Writing file \u001b[94msimframe/data0007.hdf5\u001b[0m\n",
      "Writing dump file \u001b[94msimframe/frame.dmp\u001b[0m\n",
      "Writing file \u001b[94msimframe/data0008.hdf5\u001b[0m\n",
      "Writing dump file \u001b[94msimframe/frame.dmp\u001b[0m\n",
      "Writing file \u001b[94msimframe/data0009.hdf5\u001b[0m\n",
      "Writing dump file \u001b[94msimframe/frame.dmp\u001b[0m\n",
      "Writing file \u001b[94msimframe/data0010.hdf5\u001b[0m\n",
      "Writing dump file \u001b[94msimframe/frame.dmp\u001b[0m\n",
      "Execution time: \u001b[94m0:00:00\u001b[0m\n"
     ]
    }
   ],
   "source": [
    "sim.run()"
   ]
  },
  {
   "cell_type": "markdown",
   "id": "b99fc641-26dc-455b-a627-79734e572866",
   "metadata": {},
   "source": [
    "## Reading data files"
   ]
  },
  {
   "cell_type": "markdown",
   "id": "036e8e8e-a94d-4296-b91b-63ed7e65d35f",
   "metadata": {},
   "source": [
    "Data files can be read with the same writer class from which the data files are written."
   ]
  },
  {
   "cell_type": "code",
   "execution_count": 30,
   "id": "8940e469-ba2b-41f4-9281-be3bff4f80e4",
   "metadata": {},
   "outputs": [],
   "source": [
    "wrtr = writers.hdf5writer(datadir=\"simframe\")"
   ]
  },
  {
   "cell_type": "markdown",
   "id": "f6efa84d-aa89-48c9-a04e-9525d20d16fa",
   "metadata": {},
   "source": [
    "One possibility is to read the entire dataset. This is fine for small projects. But typical DustPy simulation would require to read several gigabytes when read completely, which may not be feasible."
   ]
  },
  {
   "cell_type": "code",
   "execution_count": 31,
   "id": "00534ba4-2d25-4d8c-b0db-91b503a5b8f8",
   "metadata": {},
   "outputs": [],
   "source": [
    "data = wrtr.read.all()"
   ]
  },
  {
   "cell_type": "markdown",
   "id": "dfebe323-4e53-4f3b-85d3-a2bd42e9596b",
   "metadata": {},
   "source": [
    "Another option is to read a single snapshot with"
   ]
  },
  {
   "cell_type": "code",
   "execution_count": 32,
   "id": "07db9ea5-a57f-4361-aaf2-41e0e24791e5",
   "metadata": {},
   "outputs": [],
   "source": [
    "data0008 = wrtr.read.output(8)"
   ]
  },
  {
   "cell_type": "markdown",
   "id": "c1820b40-f0f7-4dc8-ad03-401c5478b2b3",
   "metadata": {},
   "source": [
    "And the third method is to read all snapshots of a single field."
   ]
  },
  {
   "cell_type": "code",
   "execution_count": 33,
   "id": "abda725c-0838-4d2a-a098-f6ecc565bc5d",
   "metadata": {},
   "outputs": [],
   "source": [
    "t = wrtr.read.sequence(\"t\")\n",
    "T = wrtr.read.sequence(\"T\")\n",
    "Y = wrtr.read.sequence(\"Y\")"
   ]
  },
  {
   "cell_type": "code",
   "execution_count": 34,
   "id": "f208b30c-eaf6-4d6f-8344-8e2431458f22",
   "metadata": {},
   "outputs": [],
   "source": [
    "import matplotlib.pyplot as plt\n",
    "plt.rcParams[\"figure.dpi\"] = 150."
   ]
  },
  {
   "cell_type": "code",
   "execution_count": 35,
   "id": "80206cc0-9795-4961-a3cf-4c0d6dc2a4ec",
   "metadata": {},
   "outputs": [
    {
     "data": {
      "image/png": "[encoded data removed]",
      "text/plain": [
       "<Figure size 960x720 with 1 Axes>"
      ]
     },
     "metadata": {},
     "output_type": "display_data"
    }
   ],
   "source": [
    "tt = np.linspace(t.min(), t.max(), 100)\n",
    "fig, ax = plt.subplots()\n",
    "ax.plot(t, Y, \"o\", c=\"C0\")\n",
    "ax.plot(t, T, \"o\", c=\"C1\")\n",
    "ax.plot(tt, sim.pars.A*np.exp(-sim.pars.b*tt), \"--\", c=\"C0\", label=\"Y\")\n",
    "ax.plot(tt, tt, \"--\", c=\"C1\", label=\"T\")\n",
    "ax.set_xlabel(\"$t$\")\n",
    "ax.set_ylabel(\"$Y$, $T$\")\n",
    "ax.set_xlim(t.min(), t.max())\n",
    "ax.legend()\n",
    "fig.tight_layout()"
   ]
  },
  {
   "cell_type": "markdown",
   "id": "8d88aa0e-e93f-4261-aef9-c4ebf004111a",
   "metadata": {},
   "source": [
    "## Do-it-yourself"
   ]
  },
  {
   "cell_type": "markdown",
   "id": "5c7371a4-4ab9-458c-a00b-ef906a4383a9",
   "metadata": {},
   "source": [
    "There are obviously deviations from the analytical solutions. These are purely of numerical origin.  \n",
    "Try to improve it by\n",
    "1. reducing the time step $\\Delta t$\n",
    "2. using a higher-order integration scheme e.g. classical Runge-Kutta 4th order"
   ]
  }
 ],
 "metadata": {
  "kernelspec": {
   "display_name": "Python 3 (ipykernel)",
   "language": "python",
   "name": "python3"
  },
  "language_info": {
   "codemirror_mode": {
    "name": "ipython",
    "version": 3
   },
   "file_extension": ".py",
   "mimetype": "text/x-python",
   "name": "python",
   "nbconvert_exporter": "python",
   "pygments_lexer": "ipython3",
   "version": "3.11.3"
  }
 },
 "nbformat": 4,
 "nbformat_minor": 5
}
